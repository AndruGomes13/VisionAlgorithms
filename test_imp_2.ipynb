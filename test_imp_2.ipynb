{
 "cells": [
  {
   "cell_type": "code",
   "execution_count": 1,
   "metadata": {},
   "outputs": [],
   "source": [
    "%load_ext autoreload\n",
    "%autoreload 2\n",
    "%matplotlib inline\n",
    "\n",
    "import os\n",
    "import numpy as np\n",
    "import cv2\n",
    "import matplotlib.pyplot as plt\n",
    "from matplotlib import animation\n",
    "from IPython import display\n",
    "import timeit\n",
    "from scipy.optimize import least_squares\n",
    "from scipy.optimize import minimize\n",
    "\n",
    "# Internal Imports\n",
    "from data.data_loader import load_kitti, load_malaga, load_parking\n",
    "from visual_odometry import Visual_Odometry\n",
    "from visual_odometry_2 import Visual_Odometry_2\n",
    "from pose import Pose\n",
    "from plotter import Plotter\n",
    "\n",
    "np.set_printoptions(precision=2, suppress=True)"
   ]
  },
  {
   "cell_type": "code",
   "execution_count": 2,
   "metadata": {},
   "outputs": [],
   "source": [
    "kitti = load_kitti()"
   ]
  },
  {
   "cell_type": "code",
   "execution_count": 3,
   "metadata": {},
   "outputs": [],
   "source": [
    "images = kitti['Images']\n",
    "K = kitti['K']\n",
    "homogeneous_pose_mat = kitti['Homogeneous_Pose_Mat']"
   ]
  },
  {
   "cell_type": "code",
   "execution_count": 8,
   "metadata": {},
   "outputs": [],
   "source": [
    "parking = load_parking()"
   ]
  },
  {
   "cell_type": "code",
   "execution_count": 9,
   "metadata": {},
   "outputs": [],
   "source": [
    "images = parking['Images']\n",
    "K = parking['K']\n",
    "homogeneous_pose_mat = parking['Homogeneous_Pose_Mat']"
   ]
  },
  {
   "cell_type": "code",
   "execution_count": 39,
   "metadata": {},
   "outputs": [
    {
     "name": "stdout",
     "output_type": "stream",
     "text": [
      "[[   29.52    -5.45   -33.72]\n",
      " [   29.48    -5.25   -33.78]\n",
      " [   27.39    -5.05   -36.2 ]\n",
      " [   27.5     -5.03   -36.09]\n",
      " [   27.6     -5.16   -35.89]\n",
      " [   27.59    -4.96   -36.05]\n",
      " [   27.31    -4.93   -36.37]\n",
      " [   27.09    -5.45   -36.18]\n",
      " [   27.21    -5.01   -36.43]\n",
      " [   28.53    -4.99   -34.98]\n",
      " [   29.44    -5.34   -33.77]\n",
      " [   26.4     -5.09   -37.17]\n",
      " [   27.6     -5.06   -35.96]\n",
      " [   27.11    -4.91   -36.6 ]\n",
      " [   27.58    -5.17   -35.72]\n",
      " [   26.75    -4.76   -37.09]\n",
      " [   27.27    -5.04   -36.34]\n",
      " [   29.14    -4.99   -34.19]\n",
      " [   27.42    -4.94   -36.26]\n",
      " [   29.44    -5.19   -33.89]\n",
      " [   29.7     -5.5    -33.43]\n",
      " [   27.62    -5.27   -35.8 ]\n",
      " [   27.54    -5.26   -35.89]\n",
      " [ 2012.58  -247.89   276.09]\n",
      " [  122.55    36.13  1020.98]\n",
      " [  808.47    50.59   630.11]\n",
      " [  710.02  -108.87  1207.08]\n",
      " [ 1236.25    20.16   377.72]\n",
      " [  -42.91    84.2   -477.67]\n",
      " [ 5580.67  -873.6   1022.84]\n",
      " [  224.42   -51.03  1374.21]\n",
      " [  211.88  -862.38 -1096.3 ]\n",
      " [  167.34  -136.03  -206.67]\n",
      " [ 1135.08  -384.61    -5.81]\n",
      " [ 1076.58  -136.22   173.99]\n",
      " [ 2734.12  -697.21   333.  ]\n",
      " [ 4656.92 -1239.72   843.71]\n",
      " [ 1792.71  -861.83    28.25]\n",
      " [  -48.98    54.32    40.1 ]\n",
      " [  366.99 -1172.52 -1178.98]\n",
      " [ 2739.34  -393.15   302.72]\n",
      " [ 1214.84 -2093.46  -994.28]\n",
      " [ -302.87    17.5  -1321.76]\n",
      " [ 2770.47  -570.29   339.14]\n",
      " [ -112.92  -116.37  -738.15]\n",
      " [ -240.59  -420.21 -1334.02]\n",
      " [ 2551.69  -403.4    293.8 ]\n",
      " [ -438.18  -182.68 -1638.61]\n",
      " [ 2583.03  -647.83   307.53]\n",
      " [ 4557.55  -857.     733.3 ]\n",
      " [ 1796.76 -2518.62  -765.48]\n",
      " [ -257.27  -141.88 -1153.67]\n",
      " [   51.    -452.97  -900.87]\n",
      " [ -340.09  -110.28 -1368.02]\n",
      " [ -387.73   -19.35 -1533.74]\n",
      " [ 2618.19  -108.08   201.82]\n",
      " [ -486.63   -22.89 -1783.76]\n",
      " [ 1086.73 -1907.6   -995.56]\n",
      " [ 2826.18  -370.19   293.45]\n",
      " [  819.6  -2110.78 -1325.24]\n",
      " [ 3316.02  -470.43   376.37]\n",
      " [ -368.68  -319.28 -1515.26]\n",
      " [  -47.48    62.55    37.79]\n",
      " [  158.67  -761.74 -1078.35]\n",
      " [ -376.22   132.81 -1692.  ]\n",
      " [ -527.06    73.26   419.83]\n",
      " [ -509.43  -174.6  -1792.76]\n",
      " [ 3523.02  -536.39   418.2 ]\n",
      " [  104.27  -355.14  -687.18]\n",
      " [ 5709.41 -1658.04  1257.33]\n",
      " [ 3740.28  -958.77   549.41]\n",
      " [ -637.7    202.6    698.98]\n",
      " [ -546.05  -160.89 -1869.94]\n",
      " [ 7221.8  -4271.58  1791.55]\n",
      " [  290.88 -1195.   -1274.28]\n",
      " [ -559.65   -84.8  -1915.34]\n",
      " [   50.07  -557.17 -1028.65]\n",
      " [ 6091.56 -3628.42  1314.7 ]\n",
      " [ 2131.29 -2104.74  -351.74]\n",
      " [ 6178.23 -3471.25  1381.59]\n",
      " [ 1552.04 -2316.76  -848.11]\n",
      " [ 8377.94 -5849.5   2138.51]\n",
      " [  383.67   567.48 -1587.2 ]\n",
      " [  -80.1     99.74   221.53]\n",
      " [ 5912.96 -1771.43  1343.8 ]\n",
      " [ 1559.51  -338.31   115.07]\n",
      " [ 8540.69  3800.83 -9819.78]\n",
      " [ 6367.16 -4060.01  1380.12]\n",
      " [  787.77   -93.75   227.83]\n",
      " [ -278.01   122.81 -1398.01]\n",
      " [ 2928.32 -1605.65   246.74]\n",
      " [  307.39  -691.71  -828.66]\n",
      " [ 3697.2   -753.49   505.47]\n",
      " [  387.08   -60.92   -41.43]\n",
      " [ 1791.48  -736.91    64.62]\n",
      " [ 1862.58 -2401.89  -664.85]\n",
      " [ -497.63  -103.06 -1764.57]\n",
      " [  838.48 -1904.23 -1200.13]\n",
      " [ 3282.46 -1904.12   319.05]\n",
      " [  -38.3    -19.48  -374.36]\n",
      " [ -302.77  -299.83 -1365.98]\n",
      " [ 5410.39 -1517.67  1109.09]\n",
      " [ 2988.46   225.23  -114.02]\n",
      " [ -474.41  -176.05 -1718.19]\n",
      " [ 7889.72 -5349.98  1954.45]\n",
      " [ 3460.26 -1104.69   501.25]\n",
      " [ -459.65  -266.49 -1689.14]\n",
      " [ -267.61  -355.54 -1333.68]\n",
      " [ 6753.84 -3777.18  1629.64]\n",
      " [ 2964.82 -1126.69   358.48]\n",
      " [ 3524.61  -735.94   469.67]\n",
      " [ -437.13   207.95   573.64]\n",
      " [ 5237.21 -1331.76  1029.44]\n",
      " [  288.29  -906.47 -1057.21]\n",
      " [ 3095.48 -1407.89   356.38]\n",
      " [   23.04  -155.5   -445.91]\n",
      " [ 2782.65 -1327.59   257.24]\n",
      " [ 3809.37  1084.83 -1527.09]\n",
      " [  139.58   -76.38  -115.49]\n",
      " [ 2352.52    88.45   113.25]\n",
      " [  545.   -1535.97 -1257.22]\n",
      " [  574.28  -450.63  -331.97]\n",
      " [ 2024.55 -1437.78   -76.43]\n",
      " [ 1019.56 -1644.62  -908.64]\n",
      " [   25.6     86.17   455.47]\n",
      " [  357.96  -353.86  -384.69]\n",
      " [ 1957.75 -2741.49  -751.82]\n",
      " [ 3233.44 -1603.96   368.97]\n",
      " [  281.18  -319.    -407.8 ]\n",
      " [ 3467.35   325.01  -201.33]\n",
      " [ 5528.92 -1517.99  1161.57]\n",
      " [ 1949.16 -1552.73  -206.76]\n",
      " [ 5577.92 -3399.5   1095.49]\n",
      " [ 2770.41  -125.98   201.69]\n",
      " [ 4855.21 -1624.98   940.2 ]\n",
      " [ -541.32    11.31 -1940.85]\n",
      " [   97.6   -461.17  -839.5 ]\n",
      " [ -113.14  -283.99  -955.79]\n",
      " [ 3572.15  -238.58   291.33]\n",
      " [ 3052.96 -1568.21   304.26]\n",
      " [ 6101.5  -3966.89  1260.93]\n",
      " [ 4954.91 -1166.92   926.62]\n",
      " [  155.66  -244.81  -430.9 ]\n",
      " [ 8147.86  3652.19 -9035.92]\n",
      " [-1324.88    42.65  2854.78]\n",
      " [-1579.76    48.82  2858.19]\n",
      " [  929.38 -1768.07 -1048.77]\n",
      " [ 1263.39 -1271.79  -487.67]\n",
      " [ 3906.96   389.07  -183.21]\n",
      " [   76.57  -184.16  2177.49]\n",
      " [    3.54   801.18 -2448.39]\n",
      " [ 3573.5   -972.24   513.49]\n",
      " [  214.49 -1816.68 -1719.9 ]\n",
      " [ 5179.54 -2227.21  1062.02]\n",
      " [  180.92  -565.28  -862.35]\n",
      " [ 3683.83   800.45  -883.8 ]\n",
      " [ 1158.74 -1875.01  -926.07]\n",
      " [ 1225.76 -1974.1   -919.31]\n",
      " [ -308.88   139.02 -1518.87]]\n"
     ]
    },
    {
     "ename": "AssertionError",
     "evalue": "PnP failed",
     "output_type": "error",
     "traceback": [
      "\u001b[1;31m---------------------------------------------------------------------------\u001b[0m",
      "\u001b[1;31mAssertionError\u001b[0m                            Traceback (most recent call last)",
      "Cell \u001b[1;32mIn[39], line 16\u001b[0m\n\u001b[0;32m     14\u001b[0m T_l \u001b[38;5;241m=\u001b[39m []\n\u001b[0;32m     15\u001b[0m \u001b[38;5;28;01mfor\u001b[39;00m image \u001b[38;5;129;01min\u001b[39;00m images[\u001b[38;5;241m201\u001b[39m:]:\n\u001b[1;32m---> 16\u001b[0m     T \u001b[38;5;241m=\u001b[39m vo\u001b[38;5;241m.\u001b[39mprocess_new_frame(image)\n\u001b[0;32m     17\u001b[0m     T_l\u001b[38;5;241m.\u001b[39mappend(T)\n\u001b[0;32m     18\u001b[0m     T_vec \u001b[38;5;241m=\u001b[39m np\u001b[38;5;241m.\u001b[39marray(T_l)[:,:\u001b[38;5;241m3\u001b[39m,\u001b[38;5;241m3\u001b[39m]\n",
      "File \u001b[1;32md:\\OneDrive\\OneDrive - Universidade de Lisboa\\Ambiente de Trabalho\\ETH Courses\\Vision Algorithms for Autonomous Robots\\VisualAlgosProject\\visual_odometry_2.py:137\u001b[0m, in \u001b[0;36mVisual_Odometry_2.process_new_frame\u001b[1;34m(self, image)\u001b[0m\n\u001b[0;32m    134\u001b[0m     \u001b[38;5;28mprint\u001b[39m(\u001b[38;5;124m\"\u001b[39m\u001b[38;5;124mKLT keypoints:\u001b[39m\u001b[38;5;124m\"\u001b[39m, aux)\n\u001b[0;32m    136\u001b[0m \u001b[38;5;66;03m# Find pose with PnP\u001b[39;00m\n\u001b[1;32m--> 137\u001b[0m T, inliers \u001b[38;5;241m=\u001b[39m \u001b[38;5;28mself\u001b[39m\u001b[38;5;241m.\u001b[39mget_pose_3d_2d(\u001b[38;5;28mself\u001b[39m\u001b[38;5;241m.\u001b[39mP, \u001b[38;5;28mself\u001b[39m\u001b[38;5;241m.\u001b[39mS)\n\u001b[0;32m    138\u001b[0m \u001b[38;5;66;03m# Update keypoints with inliers\u001b[39;00m\n\u001b[0;32m    139\u001b[0m \u001b[38;5;28mself\u001b[39m\u001b[38;5;241m.\u001b[39mS \u001b[38;5;241m=\u001b[39m \u001b[38;5;28mself\u001b[39m\u001b[38;5;241m.\u001b[39mS[inliers]\n",
      "File \u001b[1;32md:\\OneDrive\\OneDrive - Universidade de Lisboa\\Ambiente de Trabalho\\ETH Courses\\Vision Algorithms for Autonomous Robots\\VisualAlgosProject\\visual_odometry_2.py:267\u001b[0m, in \u001b[0;36mVisual_Odometry_2.get_pose_3d_2d\u001b[1;34m(self, points_3d, kp)\u001b[0m\n\u001b[0;32m    262\u001b[0m \u001b[38;5;66;03m# assert inliers.shape[0] == kp.shape[0], \"The number of inliers and keypoints must be equal\"\u001b[39;00m\n\u001b[0;32m    263\u001b[0m \u001b[38;5;66;03m# asse, \"The number of inliers and keypoints must be greater than zero\"\u001b[39;00m\n\u001b[0;32m    264\u001b[0m \u001b[38;5;66;03m# print(\"Inliers:\", inliers)\u001b[39;00m\n\u001b[0;32m    265\u001b[0m \u001b[38;5;28mprint\u001b[39m(points_3d)\n\u001b[1;32m--> 267\u001b[0m \u001b[38;5;28;01massert\u001b[39;00m success \u001b[38;5;241m==\u001b[39m \u001b[38;5;28;01mTrue\u001b[39;00m, \u001b[38;5;124m\"\u001b[39m\u001b[38;5;124mPnP failed\u001b[39m\u001b[38;5;124m\"\u001b[39m\n\u001b[0;32m    269\u001b[0m \u001b[38;5;28;01mreturn\u001b[39;00m T, inliers\u001b[38;5;241m.\u001b[39mravel()\n",
      "\u001b[1;31mAssertionError\u001b[0m: PnP failed"
     ]
    }
   ],
   "source": [
    "feature_detector = cv2.SIFT_create()\n",
    "feature_matcher = cv2.BFMatcher(cv2.NORM_L2, True)\n",
    "\n",
    "params = {\"Feature_Detector\": feature_detector,\n",
    "            \"Feature_Matcher\": feature_matcher,\n",
    "            \"K\": K}\n",
    "\n",
    "vo = Visual_Odometry_2(params)\n",
    "\n",
    "vo.bootstrap(images[200], images[202])\n",
    "\n",
    "print(\"Inital keypoints:\", vo.S.shape[0])\n",
    "\n",
    "T_l = []\n",
    "for image in images[201:]:\n",
    "    T = vo.process_new_frame(image)\n",
    "    T_l.append(T)\n",
    "    T_vec = np.array(T_l)[:,:3,3]\n",
    "    # Plot the image and the keypoints on top subfigure and the x-z trajectory on the bottom subfigure\n",
    "    # plt.figure(figsize=(10,10))\n",
    "    # plt.subplot(211)\n",
    "    # plt.imshow(image)\n",
    "    # plt.plot(vo.S[:,0], vo.S[:,1], 'r.', markersize=2)\n",
    "    # plt.plot(vo.C[:,0], vo.C[:,1], 'b.', markersize=2)\n",
    "    # plt.subplot(212)\n",
    "    # plt.plot(T_vec[:,0], T_vec[:,2])\n",
    "    # plt.show()\n",
    "    # print(\"Keypoints:\", vo.S.shape[0])\n",
    "    \n",
    "    # # # Check keypoints outside the image\n",
    "    # aux = vo.S[:,0] < 0\n",
    "    # aux += vo.S[:,0] > image.shape[1]\n",
    "    # aux += vo.S[:,1] < 0\n",
    "    # aux += vo.S[:,1] > image.shape[0]\n",
    "\n",
    "    # if aux.any():\n",
    "    #     print(\"WARNING - Keypoints outside the image\")\n",
    "    #     print(\"Keypoints outside the image:\", np.sum(aux))\n",
    "\n",
    "    # print(image.shape)\n",
    "    # # Clear the plot from inline display\n",
    "    # display.clear_output(wait=True)\n",
    "\n",
    "\n",
    "\n",
    "\n",
    "\n",
    "\n",
    "    # plt.imshow(image)\n",
    "    # plt.plot(vo.S[:,0], vo.S[:,1], 'r.', markersize=2)\n",
    "    # plt.plot(vo.C[:,0], vo.C[:,1], 'b.', markersize=2)\n",
    "    # plt.show()\n",
    "    print(\"Keypoints:\", vo.S.shape[0])\n",
    "    # # Clear the plot from inline display\n",
    "    display.clear_output(wait=True)\n",
    "\n",
    "\n"
   ]
  },
  {
   "cell_type": "code",
   "execution_count": 25,
   "metadata": {},
   "outputs": [
    {
     "data": {
      "text/plain": [
       "[<matplotlib.lines.Line2D at 0x202d0c959d0>]"
      ]
     },
     "execution_count": 25,
     "metadata": {},
     "output_type": "execute_result"
    },
    {
     "data": {
      "image/png": "[encoded data removed]",
      "text/plain": [
       "<Figure size 640x480 with 1 Axes>"
      ]
     },
     "metadata": {},
     "output_type": "display_data"
    }
   ],
   "source": [
    "T_vec = np.array(T_l)[:,:3,3]\n",
    "plt.plot(T_vec[:,0], T_vec[:,2])"
   ]
  },
  {
   "cell_type": "code",
   "execution_count": 21,
   "metadata": {},
   "outputs": [
    {
     "data": {
      "text/plain": [
       "[<matplotlib.lines.Line2D at 0x202d0b1ae50>]"
      ]
     },
     "execution_count": 21,
     "metadata": {},
     "output_type": "execute_result"
    },
    {
     "data": {
      "image/png": "[encoded data removed]",
      "text/plain": [
       "<Figure size 640x480 with 1 Axes>"
      ]
     },
     "metadata": {},
     "output_type": "display_data"
    }
   ],
   "source": [
    "T = homogeneous_pose_mat[:,:3,3]\n",
    "plt.plot(T[:,0], T[:,2])"
   ]
  },
  {
   "cell_type": "code",
   "execution_count": 457,
   "metadata": {},
   "outputs": [
    {
     "name": "stdout",
     "output_type": "stream",
     "text": [
      "(105, 2)\n",
      "(507, 2)\n",
      "(414, 2)\n",
      "(388, 2)\n",
      "(369, 2)\n",
      "(381, 2)\n",
      "(318, 2)\n",
      "(440, 2)\n",
      "(439, 2)\n",
      "(265, 2)\n",
      "(440, 2)\n",
      "(264, 2)\n",
      "(443, 2)\n",
      "(413, 2)\n",
      "(397, 2)\n",
      "(365, 2)\n",
      "(400, 2)\n",
      "(348, 2)\n",
      "(363, 2)\n",
      "(368, 2)\n",
      "(359, 2)\n",
      "(362, 2)\n",
      "(333, 2)\n",
      "(399, 2)\n",
      "(339, 2)\n",
      "(396, 2)\n",
      "(406, 2)\n",
      "(380, 2)\n",
      "(406, 2)\n",
      "(359, 2)\n",
      "(408, 2)\n",
      "(375, 2)\n",
      "(453, 2)\n",
      "(361, 2)\n",
      "(436, 2)\n",
      "(394, 2)\n",
      "(494, 2)\n",
      "(505, 2)\n",
      "(401, 2)\n",
      "(550, 2)\n",
      "(359, 2)\n",
      "(565, 2)\n",
      "(506, 2)\n",
      "(526, 2)\n",
      "(490, 2)\n",
      "(478, 2)\n",
      "(533, 2)\n",
      "(448, 2)\n",
      "(569, 2)\n",
      "(527, 2)\n",
      "(559, 2)\n",
      "(545, 2)\n",
      "(620, 2)\n",
      "(569, 2)\n",
      "(631, 2)\n",
      "(554, 2)\n",
      "(582, 2)\n",
      "(497, 2)\n",
      "(497, 2)\n",
      "(447, 2)\n",
      "(498, 2)\n",
      "(402, 2)\n",
      "(507, 2)\n",
      "(458, 2)\n",
      "(483, 2)\n",
      "(499, 2)\n",
      "(499, 2)\n",
      "(461, 2)\n",
      "(493, 2)\n",
      "(465, 2)\n",
      "(465, 2)\n",
      "(442, 2)\n",
      "(514, 2)\n",
      "(351, 2)\n",
      "(484, 2)\n",
      "(501, 2)\n",
      "(450, 2)\n",
      "(480, 2)\n",
      "(516, 2)\n",
      "(529, 2)\n",
      "(439, 2)\n",
      "(549, 2)\n",
      "(408, 2)\n",
      "(483, 2)\n",
      "(476, 2)\n",
      "(512, 2)\n",
      "(485, 2)\n",
      "(607, 2)\n",
      "(489, 2)\n",
      "(602, 2)\n",
      "(474, 2)\n",
      "(641, 2)\n",
      "(578, 2)\n",
      "(710, 2)\n",
      "(673, 2)\n",
      "(781, 2)\n",
      "(603, 2)\n",
      "(808, 2)\n",
      "(578, 2)\n",
      "(674, 2)\n",
      "(551, 2)\n",
      "(747, 2)\n",
      "(619, 2)\n",
      "(782, 2)\n",
      "(556, 2)\n",
      "(702, 2)\n",
      "(734, 2)\n",
      "(656, 2)\n",
      "(388, 2)\n",
      "(641, 2)\n",
      "(582, 2)\n",
      "(626, 2)\n",
      "(595, 2)\n",
      "(726, 2)\n",
      "(679, 2)\n",
      "(496, 2)\n",
      "(646, 2)\n",
      "(644, 2)\n",
      "(638, 2)\n",
      "(459, 2)\n"
     ]
    },
    {
     "ename": "AttributeError",
     "evalue": "'NoneType' object has no attribute 'ravel'",
     "output_type": "error",
     "traceback": [
      "\u001b[1;31m---------------------------------------------------------------------------\u001b[0m",
      "\u001b[1;31mAttributeError\u001b[0m                            Traceback (most recent call last)",
      "Cell \u001b[1;32mIn[457], line 3\u001b[0m\n\u001b[0;32m      1\u001b[0m T_vec \u001b[38;5;241m=\u001b[39m []\n\u001b[0;32m      2\u001b[0m \u001b[38;5;28;01mfor\u001b[39;00m image \u001b[38;5;129;01min\u001b[39;00m images[\u001b[38;5;241m2\u001b[39m:\u001b[38;5;241m300\u001b[39m]:\n\u001b[1;32m----> 3\u001b[0m     T \u001b[38;5;241m=\u001b[39m vo\u001b[38;5;241m.\u001b[39mprocess_new_frame(image)\n\u001b[0;32m      4\u001b[0m     \u001b[38;5;28mprint\u001b[39m(vo\u001b[38;5;241m.\u001b[39mS\u001b[38;5;241m.\u001b[39mshape)\n\u001b[0;32m      5\u001b[0m     T_vec\u001b[38;5;241m.\u001b[39mappend(T[:\u001b[38;5;241m3\u001b[39m, \u001b[38;5;241m3\u001b[39m])\n",
      "File \u001b[1;32md:\\OneDrive\\OneDrive - Universidade de Lisboa\\Ambiente de Trabalho\\ETH Courses\\Vision Algorithms for Autonomous Robots\\VisualAlgosProject\\visual_odometry_2.py:129\u001b[0m, in \u001b[0;36mVisual_Odometry_2.process_new_frame\u001b[1;34m(self, image)\u001b[0m\n\u001b[0;32m    125\u001b[0m \u001b[38;5;28mself\u001b[39m\u001b[38;5;241m.\u001b[39mP \u001b[38;5;241m=\u001b[39m \u001b[38;5;28mself\u001b[39m\u001b[38;5;241m.\u001b[39mP[mask]\n\u001b[0;32m    128\u001b[0m \u001b[38;5;66;03m# Find pose with PnP\u001b[39;00m\n\u001b[1;32m--> 129\u001b[0m T, inliers \u001b[38;5;241m=\u001b[39m \u001b[38;5;28mself\u001b[39m\u001b[38;5;241m.\u001b[39mget_pose_3d_2d(\u001b[38;5;28mself\u001b[39m\u001b[38;5;241m.\u001b[39mP, \u001b[38;5;28mself\u001b[39m\u001b[38;5;241m.\u001b[39mS)\n\u001b[0;32m    130\u001b[0m \u001b[38;5;66;03m# Update keypoints with inliers\u001b[39;00m\n\u001b[0;32m    131\u001b[0m \u001b[38;5;28mself\u001b[39m\u001b[38;5;241m.\u001b[39mS \u001b[38;5;241m=\u001b[39m \u001b[38;5;28mself\u001b[39m\u001b[38;5;241m.\u001b[39mS[inliers]\n",
      "File \u001b[1;32md:\\OneDrive\\OneDrive - Universidade de Lisboa\\Ambiente de Trabalho\\ETH Courses\\Vision Algorithms for Autonomous Robots\\VisualAlgosProject\\visual_odometry_2.py:242\u001b[0m, in \u001b[0;36mVisual_Odometry_2.get_pose_3d_2d\u001b[1;34m(self, points_3d, kp)\u001b[0m\n\u001b[0;32m    240\u001b[0m R \u001b[38;5;241m=\u001b[39m cv2\u001b[38;5;241m.\u001b[39mRodrigues(R_vec)[\u001b[38;5;241m0\u001b[39m]\n\u001b[0;32m    241\u001b[0m T \u001b[38;5;241m=\u001b[39m \u001b[38;5;28mself\u001b[39m\u001b[38;5;241m.\u001b[39mpose_RT(R, t)\n\u001b[1;32m--> 242\u001b[0m \u001b[38;5;28;01mreturn\u001b[39;00m T, inliers\u001b[38;5;241m.\u001b[39mravel()\n",
      "\u001b[1;31mAttributeError\u001b[0m: 'NoneType' object has no attribute 'ravel'"
     ]
    }
   ],
   "source": [
    "T_vec = []\n",
    "for image in images[2:300]:\n",
    "    T = vo.process_new_frame(image)\n",
    "    print(vo.S.shape)\n",
    "    T_vec.append(T[:3, 3])\n",
    "    # print(T[:3, 3])\n",
    "\n"
   ]
  },
  {
   "cell_type": "code",
   "execution_count": 452,
   "metadata": {},
   "outputs": [
    {
     "data": {
      "text/plain": [
       "(546, 1)"
      ]
     },
     "execution_count": 452,
     "metadata": {},
     "output_type": "execute_result"
    }
   ],
   "source": [
    "points_3d = vo.P\n",
    "points_2d = vo.S\n",
    "\n",
    "pnp_ransac_params = {\"iterationsCount\": 100,\n",
    "                    \"reprojectionError\": 2.0,\n",
    "                    \"confidence\": 0.999,\n",
    "                    \"distCoeffs\": None,\n",
    "                    \"flags\": cv2.SOLVEPNP_ITERATIVE,\n",
    "                    \"useExtrinsicGuess\": False\n",
    "                    }\n",
    "# success, R_vec, t, inliers = cv2.solvePnPRansac(points_3d, points_2d, vo.K, None, None, None, False, 100, 8.0, 0.99, None, cv2.SOLVEPNP_ITERATIVE)\n",
    "success, R_vec, t, inliers = cv2.solvePnPRansac(points_3d, points_2d, vo.K, **pnp_ransac_params)\n",
    "inliers.shape\n"
   ]
  },
  {
   "cell_type": "code",
   "execution_count": 455,
   "metadata": {},
   "outputs": [
    {
     "name": "stdout",
     "output_type": "stream",
     "text": [
      "[-1.89 -0.4  11.28]\n"
     ]
    },
    {
     "data": {
      "image/png": "[encoded data removed]",
      "text/plain": [
       "<Figure size 640x480 with 1 Axes>"
      ]
     },
     "metadata": {},
     "output_type": "display_data"
    }
   ],
   "source": [
    "# Plot the trajectory\n",
    "T_vec = np.array(T_vec)\n",
    "fig = plt.figure()\n",
    "# ax = fig.add_subplot(111, projection='3d')\n",
    "# ax.plot(T_vec[:, 0], T_vec[:, 1], T_vec[:, 2])\n",
    "# ax.set_xlabel('X Label')\n",
    "# ax.set_ylabel('Y Label')\n",
    "# ax.set_zlabel('Z Label')\n",
    "# plt.show()\n",
    "i = 13\n",
    "plt.plot(T_vec[:i, 0], T_vec[:i, 2])\n",
    "print(T_vec[i])\n",
    "plt.show()"
   ]
  },
  {
   "cell_type": "code",
   "execution_count": 268,
   "metadata": {},
   "outputs": [],
   "source": [
    "vo.S\n",
    "n_image = images[1]\n",
    "# klt_params = {\"winSize\" : (15, 15), \n",
    "#                     \"maxLevel\" : 2, \n",
    "#                     \"criteria\" : (cv2.TERM_CRITERIA_EPS | cv2.TERM_CRITERIA_COUNT, 10, 0.03)}\n",
    "klt_params = {\"winSize\" : (4, 4), \n",
    "                    \"maxLevel\" : 2, \n",
    "                    \"criteria\" : (cv2.TERM_CRITERIA_COUNT | cv2.TERM_CRITERIA_EPS, 100, 0.003)}\n",
    "\n",
    "new_kp, mask, err = cv2.calcOpticalFlowPyrLK(vo.prev_image, n_image, vo.S, None, **klt_params)"
   ]
  },
  {
   "cell_type": "code",
   "execution_count": 270,
   "metadata": {},
   "outputs": [
    {
     "data": {
      "text/plain": [
       "689"
      ]
     },
     "execution_count": 270,
     "metadata": {},
     "output_type": "execute_result"
    }
   ],
   "source": []
  },
  {
   "cell_type": "code",
   "execution_count": null,
   "metadata": {},
   "outputs": [],
   "source": []
  }
 ],
 "metadata": {
  "kernelspec": {
   "display_name": "Python 3",
   "language": "python",
   "name": "python3"
  },
  "language_info": {
   "codemirror_mode": {
    "name": "ipython",
    "version": 3
   },
   "file_extension": ".py",
   "mimetype": "text/x-python",
   "name": "python",
   "nbconvert_exporter": "python",
   "pygments_lexer": "ipython3",
   "version": "3.11.5"
  }
 },
 "nbformat": 4,
 "nbformat_minor": 2
}
